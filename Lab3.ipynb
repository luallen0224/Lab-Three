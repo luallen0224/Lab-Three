{
 "cells": [
  {
   "cell_type": "markdown",
   "id": "f6490afc-4b5a-4fd4-b605-12ca0e45952a",
   "metadata": {},
   "source": [
    "# CS7324 - Lab 3: Extending Logistic Regression\n",
    "### Jarad Angel, Zach Bohl,  and Luigi Allen"
   ]
  },
  {
   "cell_type": "markdown",
   "id": "4178f5cb-bdfa-4cdb-ae93-440b82ab229a",
   "metadata": {},
   "source": [
    "Airline Passenger Satisfation Dataset: https://www.kaggle.com/datasets/teejmahal20/airline-passenger-satisfaction"
   ]
  },
  {
   "cell_type": "markdown",
   "id": "fabfb031-29d3-4209-b716-064cc9e6c462",
   "metadata": {},
   "source": [
    "# Preparation and Overview"
   ]
  },
  {
   "cell_type": "markdown",
   "id": "c5efa9e6-aef8-44f4-b88e-a7a5cab9a2d7",
   "metadata": {},
   "source": [
    "### Task Explanation and Business Case"
   ]
  },
  {
   "cell_type": "code",
   "execution_count": null,
   "id": "bf70a526",
   "metadata": {},
   "outputs": [],
   "source": [
    "%pip install pandas \n",
    "%pip  install matplotlib\n",
    "%pip install seaborn"
   ]
  },
  {
   "cell_type": "code",
   "execution_count": 6,
   "id": "695a046c-1d52-42a2-98a9-94b655148c6a",
   "metadata": {},
   "outputs": [
    {
     "name": "stdout",
     "output_type": "stream",
     "text": [
      "<class 'pandas.core.frame.DataFrame'>\n",
      "RangeIndex: 103904 entries, 0 to 103903\n",
      "Data columns (total 25 columns):\n",
      " #   Column                             Non-Null Count   Dtype  \n",
      "---  ------                             --------------   -----  \n",
      " 0   Unnamed: 0                         103904 non-null  int64  \n",
      " 1   id                                 103904 non-null  int64  \n",
      " 2   Gender                             103904 non-null  object \n",
      " 3   Customer Type                      103904 non-null  object \n",
      " 4   Age                                103904 non-null  int64  \n",
      " 5   Type of Travel                     103904 non-null  object \n",
      " 6   Class                              103904 non-null  object \n",
      " 7   Flight Distance                    103904 non-null  int64  \n",
      " 8   Inflight wifi service              103904 non-null  int64  \n",
      " 9   Departure/Arrival time convenient  103904 non-null  int64  \n",
      " 10  Ease of Online booking             103904 non-null  int64  \n",
      " 11  Gate location                      103904 non-null  int64  \n",
      " 12  Food and drink                     103904 non-null  int64  \n",
      " 13  Online boarding                    103904 non-null  int64  \n",
      " 14  Seat comfort                       103904 non-null  int64  \n",
      " 15  Inflight entertainment             103904 non-null  int64  \n",
      " 16  On-board service                   103904 non-null  int64  \n",
      " 17  Leg room service                   103904 non-null  int64  \n",
      " 18  Baggage handling                   103904 non-null  int64  \n",
      " 19  Checkin service                    103904 non-null  int64  \n",
      " 20  Inflight service                   103904 non-null  int64  \n",
      " 21  Cleanliness                        103904 non-null  int64  \n",
      " 22  Departure Delay in Minutes         103904 non-null  int64  \n",
      " 23  Arrival Delay in Minutes           103594 non-null  float64\n",
      " 24  satisfaction                       103904 non-null  object \n",
      "dtypes: float64(1), int64(19), object(5)\n",
      "memory usage: 19.8+ MB\n"
     ]
    }
   ],
   "source": [
    "import pandas as pd\n",
    "import matplotlib.pyplot as plt\n",
    "import seaborn as sns\n",
    "import numpy as np\n",
    "\n",
    "# Loading the dataset and displaying feature information for analysis\n",
    "df = pd.read_csv('Archive/train.csv')\n",
    "df.info()"
   ]
  },
  {
   "cell_type": "code",
   "execution_count": null,
   "id": "43ed2b41",
   "metadata": {},
   "outputs": [],
   "source": [
    "#one hot encoding\n"
   ]
  },
  {
   "cell_type": "code",
   "execution_count": null,
   "id": "76a7193e",
   "metadata": {},
   "outputs": [],
   "source": [
    "#Dementionality reduction"
   ]
  },
  {
   "cell_type": "markdown",
   "id": "df26ff0f-acf3-456d-85f9-3546e1ff5c59",
   "metadata": {},
   "source": [
    "# Modeling"
   ]
  },
  {
   "cell_type": "code",
   "execution_count": null,
   "id": "bcacf16b-1c2b-4ef4-ab23-a21d1b05c9f8",
   "metadata": {},
   "outputs": [],
   "source": []
  },
  {
   "cell_type": "markdown",
   "id": "c977a9ea-975c-4bbb-bc70-be3fe3e210a5",
   "metadata": {},
   "source": [
    "# Deployment"
   ]
  },
  {
   "cell_type": "code",
   "execution_count": null,
   "id": "a9993aba-31f1-4f69-af89-909493b89fbd",
   "metadata": {},
   "outputs": [],
   "source": []
  },
  {
   "cell_type": "markdown",
   "id": "fbe3bcc2-ce33-4e64-b97e-4200119986c4",
   "metadata": {},
   "source": [
    "# Exceptional Work "
   ]
  },
  {
   "cell_type": "code",
   "execution_count": null,
   "id": "ccf6fdf0-97b8-4452-bd2b-f570ca2b8964",
   "metadata": {},
   "outputs": [],
   "source": []
  },
  {
   "cell_type": "code",
   "execution_count": null,
   "id": "7ad29825-d663-4b08-b568-57030f8a9a51",
   "metadata": {},
   "outputs": [],
   "source": []
  }
 ],
 "metadata": {
  "kernelspec": {
   "display_name": "Python 3",
   "language": "python",
   "name": "python3"
  },
  "language_info": {
   "codemirror_mode": {
    "name": "ipython",
    "version": 3
   },
   "file_extension": ".py",
   "mimetype": "text/x-python",
   "name": "python",
   "nbconvert_exporter": "python",
   "pygments_lexer": "ipython3",
   "version": "3.8.10"
  }
 },
 "nbformat": 4,
 "nbformat_minor": 5
}
